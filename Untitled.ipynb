{
 "cells": [
  {
   "cell_type": "code",
   "execution_count": 7,
   "id": "5971af0e-d5dc-4104-8f65-065cbdc8d5b5",
   "metadata": {},
   "outputs": [
    {
     "name": "stderr",
     "output_type": "stream",
     "text": [
      "Special tokens have been added in the vocabulary, make sure the associated word embeddings are fine-tuned or trained.\n"
     ]
    },
    {
     "name": "stdout",
     "output_type": "stream",
     "text": [
      "Model loaded successfully!\n"
     ]
    }
   ],
   "source": [
    "from transformers import AutoModelForSeq2SeqLM, AutoTokenizer\n",
    "import ollama\n",
    "\n",
    "local_path = \"./hindi_model1\"\n",
    "tokenizer1 = AutoTokenizer.from_pretrained(local_path)\n",
    "model1 = AutoModelForSeq2SeqLM.from_pretrained(local_path)\n",
    "\n",
    "print(\"Model loaded successfully!\")\n"
   ]
  },
  {
   "cell_type": "code",
   "execution_count": 15,
   "id": "d811fea0-ae5c-4f58-b0d8-b740f7973cd7",
   "metadata": {},
   "outputs": [
    {
     "name": "stdout",
     "output_type": "stream",
     "text": [
      "Generated Headline: सोशल इस दुनिया में जितने ही जुगाड़ करने वाले लोग हैं उतने ही लोग आपको क्रिएटिव दिमाग वाले भी मिलेंगे। आप अगर सोशल मीडिया पर हैं और रेगुलर एक्टिव रहते हैं तो फिर आपने दोनों तरह के वीडियो देखे होंगे। सोशल मीडिया पर जितने ही वीडियो जुगाड़ वाले वायरल होते हैं, लगभग\n"
     ]
    }
   ],
   "source": [
    "\n",
    "article = \"इस दुनिया में जितने ही जुगाड़ करने वाले लोग हैं उतने ही लोग आपको क्रिएटिव दिमाग वाले भी मिलेंगे। आप अगर सोशल मीडिया पर हैं और रेगुलर एक्टिव रहते हैं तो फिर आपने दोनों तरह के वीडियो देखे होंगे। सोशल मीडिया पर जितने ही वीडियो जुगाड़ वाले वायरल होते हैं, लगभग उतने ही वीडियो क्रिएटिविटी वाले भी दिखते हैं। कोई ऑटो के शीशे पर स्टीकर लगाकर लोगों को बैटमैन जैसा फील कराता है तो कोई ऑटो को ही डबल डेकर कर देता है। कोई टूटी घड़ी में अपनी क्रिएटिविटी दिखता है तो कोई पंडाल बनाने में क्रिएटिव दिमाग दौड़ाता है। अभी भी जो वीडियो वायरल हो रहा है उसमें गजब की क्रिएटिविटी देखने को मिली।\"\n",
    "\n",
    "inputs = tokenizer(article, return_tensors=\"pt\", max_length=512, truncation=True)\n",
    "\n",
    "\n",
    "inputs.pop(\"token_type_ids\", None)\n",
    "\n",
    "\n",
    "output = model1.generate(\n",
    "    input_ids=inputs[\"input_ids\"],\n",
    "    attention_mask=inputs[\"attention_mask\"],\n",
    "    max_length=64,      \n",
    "    num_beams=5,         \n",
    "    early_stopping=True\n",
    ")\n",
    "\n",
    "\n",
    "headline = tokenizer1.decode(output[0], skip_special_tokens=True)\n",
    "print(\"Generated Headline:\", headline)"
   ]
  },
  {
   "cell_type": "code",
   "execution_count": 16,
   "id": "e04a00b4-43d9-42b6-b144-1efdfd7c7407",
   "metadata": {},
   "outputs": [
    {
     "name": "stdout",
     "output_type": "stream",
     "text": [
      "Generated Headline: **सोशल मीडिया पर वीडियो जुगाड़: क्रिएटिव दिमाग की जरूरत**\n",
      "\n",
      "सोशल इस दुनिया में जितने ही जुगाड़ करने वाले लोग हैं उतने ही लोग आपको क्रिएटिव दिमाग वाले भी मिलेंगे।\n"
     ]
    }
   ],
   "source": [
    "import ollama\n",
    "def prompt(value1):\n",
    "    desired_model = 'llama3.2:3b'\n",
    "    ask=\"Format this Hindi text correctly and provide only headline not full description and create a single headline and format properly like news. \"+str(value1)\n",
    "    \n",
    "   \n",
    "    response = ollama.chat(model=desired_model, messages=[{\n",
    "        'role': 'user',\n",
    "        'content': ask,\n",
    "    }])\n",
    "\n",
    "    final = response['message']['content']\n",
    "    return final\n",
    "\n",
    "\n",
    "head1=prompt(headline)\n",
    "print(\"Generated Headline:\", head1)\n",
    "    \n"
   ]
  },
  {
   "cell_type": "code",
   "execution_count": null,
   "id": "e2887b01-04c0-406d-8751-64fff699985f",
   "metadata": {},
   "outputs": [],
   "source": []
  }
 ],
 "metadata": {
  "kernelspec": {
   "display_name": "Python 3 (ipykernel)",
   "language": "python",
   "name": "python3"
  },
  "language_info": {
   "codemirror_mode": {
    "name": "ipython",
    "version": 3
   },
   "file_extension": ".py",
   "mimetype": "text/x-python",
   "name": "python",
   "nbconvert_exporter": "python",
   "pygments_lexer": "ipython3",
   "version": "3.10.5"
  }
 },
 "nbformat": 4,
 "nbformat_minor": 5
}
